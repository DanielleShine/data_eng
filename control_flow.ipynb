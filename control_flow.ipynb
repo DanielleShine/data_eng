{
 "cells": [
  {
   "cell_type": "code",
   "execution_count": 1,
   "metadata": {},
   "outputs": [
    {
     "name": "stdout",
     "output_type": "stream",
     "text": [
      "Nice work!\n"
     ]
    }
   ],
   "source": [
    "points = 174  # use this input to make your submission\n",
    "\n",
    "if points <= 50 and points >= 1:\n",
    "    result = \"Congratulations! You won a wooden rabbit!\"\n",
    "\n",
    "elif points <= 150 and points >= 51:\n",
    "    result = \"Oh dear, no prize this time.\"\n",
    "\n",
    "elif points <= 180 and points >= 151:\n",
    "    result = \"Congratulations! You won a wafer-thin mint!\"\n",
    "\n",
    "elif points <= 200 and points >= 181:\n",
    "    result = \"Congratulations! You won a penguin!\"\n",
    "\n",
    "\n",
    "\n",
    "### Notebook grading\n",
    "if result == \"Congratulations! You won a wafer-thin mint!\":\n",
    "    print(\"Nice work!\")\n",
    "else:\n",
    "    print(\"Not quite! Are your result strings formatted correctly?\")"
   ]
  },
  {
   "cell_type": "markdown",
   "metadata": {},
   "source": [
    "You decide you want to play a game where you are hiding a number from someone. Store this number in a variable called 'answer'. Another user provides a number called 'guess'. By comparing 'guess' to 'answer', you inform the user if their guess is too high or too low. Fill in the conditionals below to inform the user about how their guess compares to the answer"
   ]
  },
  {
   "cell_type": "code",
   "execution_count": 4,
   "metadata": {},
   "outputs": [
    {
     "name": "stdout",
     "output_type": "stream",
     "text": [
      "Good job!\n"
     ]
    }
   ],
   "source": [
    "# Fill in the conditionals below to inform the user about how\n",
    "# their guess compares to the answer.\n",
    "\n",
    "answer = 9 #replace 0 with a value you choose\n",
    "guess = 7 #replace 0 with a value you choose\n",
    "\n",
    "if guess < answer:\n",
    "    result = \"Oops!  Your guess was too low.\"\n",
    "elif guess > answer:\n",
    "    result = \"Oops!  Your guess was too high.\"\n",
    "else:\n",
    "    result = \"Nice!  Your guess matched the answer!\"\n",
    "    \n",
    "### Notebook grading\n",
    "\n",
    "def get_solution(answer, guess):\n",
    "    if guess < answer:\n",
    "        return \"Oops!  Your guess was too low.\"\n",
    "    elif guess > answer:\n",
    "        return \"Oops!  Your guess was too high.\"\n",
    "    else:\n",
    "        return \"Nice!  Your guess matched the answer!\"\n",
    "\n",
    "if result == get_solution(answer, guess):\n",
    "    print(\"Good job!\")\n",
    "else:\n",
    "    print(\"Try again. That doesn't look like the expected answer.\")"
   ]
  },
  {
   "cell_type": "markdown",
   "metadata": {},
   "source": [
    "Depending on where an individual is from we need to tax them appropriately. The states of CA, MN, and NY have taxes of 7.5%, 9.5%, and 8.9% respectively. Use this information to take the amount of a purchase and the corresponding state to assure that they are taxed by the right amount."
   ]
  },
  {
   "cell_type": "code",
   "execution_count": null,
   "metadata": {},
   "outputs": [],
   "source": [
    "state = \"\" #Either \"CA\", \"MN\", or \"NY\"\n",
    "purchase_amount = #amount of purchase\n",
    "\n",
    "if #provide conditional for checking state is CA\n",
    "    tax_amount = .075\n",
    "    total_cost = purchase_amount*(1+tax_amount)\n",
    "    result = \"Since you're from {}, your total cost is {}.\".format(state, total_cost)\n",
    "\n",
    "elif #provide conditional for checking state is MN\n",
    "    tax_amount = .095\n",
    "    total_cost = purchase_amount*(1+tax_amount)\n",
    "    result = \"Since you're from {}, your total cost is {}.\".format(state, total_cost)\n",
    "\n",
    "elif #provide conditional for checking state is NY\n",
    "    tax_amount = .089\n",
    "    total_cost = purchase_amount*(1+tax_amount)\n",
    "    result = \"Since you're from {}, your total cost is {}.\".format(state, total_cost)\n",
    "\n",
    "### Notebook grading\n",
    "def get_solution(state, purchase_amount):\n",
    "    if state == 'CA':\n",
    "        tax_amount = .075\n",
    "        total_cost = purchase_amount*(1+tax_amount)\n",
    "        result = \"Since you're from {}, your total cost is {}.\".format(state, total_cost)\n",
    "    elif state == 'MN':\n",
    "        tax_amount = .095\n",
    "        total_cost = purchase_amount*(1+tax_amount)\n",
    "        result = \"Since you're from {}, your total cost is {}.\".format(state, total_cost)\n",
    "    elif state == 'NY':\n",
    "        tax_amount = .089\n",
    "        total_cost = purchase_amount*(1+tax_amount)\n",
    "        result = \"Since you're from {}, your total cost is {}.\".format(state, total_cost)\n",
    "    else:\n",
    "        result = \"\"\n",
    "\n",
    "    return result\n",
    "\n",
    "if result == get_solution(state, purchase_amount):\n",
    "    print(\"Good job!\")\n",
    "else:\n",
    "    print(\"Oops! That doesn't look like the expect answer.\")"
   ]
  },
  {
   "cell_type": "code",
   "execution_count": null,
   "metadata": {},
   "outputs": [],
   "source": []
  }
 ],
 "metadata": {
  "kernelspec": {
   "display_name": "env",
   "language": "python",
   "name": "python3"
  },
  "language_info": {
   "codemirror_mode": {
    "name": "ipython",
    "version": 3
   },
   "file_extension": ".py",
   "mimetype": "text/x-python",
   "name": "python",
   "nbconvert_exporter": "python",
   "pygments_lexer": "ipython3",
   "version": "3.12.8"
  }
 },
 "nbformat": 4,
 "nbformat_minor": 2
}
