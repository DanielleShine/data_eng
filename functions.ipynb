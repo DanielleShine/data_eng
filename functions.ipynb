{
 "cells": [
  {
   "cell_type": "markdown",
   "metadata": {},
   "source": [
    "YAY FUNCTIONS!!!\n"
   ]
  },
  {
   "cell_type": "code",
   "execution_count": 1,
   "metadata": {},
   "outputs": [
    {
     "name": "stdout",
     "output_type": "stream",
     "text": [
      "Nicely done! You can view my solution on the next page.\n"
     ]
    }
   ],
   "source": [
    "# write your function here\n",
    "def population_density(population, land_area):\n",
    "    return population / land_area\n",
    "\n",
    "\n",
    "### Notebook grading\n",
    "import types\n",
    "explanation_str = '''Your function produced the wrong result when called like this: {}\\t\n",
    "The expected output is: {}'''\n",
    "if 'population_density' not in locals():\n",
    "    print(\"Your code doesn't define `population_density`. Check your spelling.\")\n",
    "elif not isinstance(population_density, types.FunctionType):\n",
    "    print(\"`population_density` should be a function.\")\n",
    "elif population_density(10, 1) != 10/1:\n",
    "    print(explanation_str.format('population_density(10, 1)', 10./1))\n",
    "elif population_density(864816, 121.4) != 864816/121.4:\n",
    "    print(explanation_str.format('population_density(864816, 121.4)', 864816./121.4))\n",
    "elif population_density(1234321, 42) != 1234321 / 42:\n",
    "    print(explanation_str.format('population_density(1234321, 42)', 1234321./ 42))\n",
    "else:\n",
    "    print(\"Nicely done! You can view my solution on the next page.\")"
   ]
  },
  {
   "cell_type": "code",
   "execution_count": 4,
   "metadata": {},
   "outputs": [
    {
     "name": "stdout",
     "output_type": "stream",
     "text": [
      "1 week(s) and 3 day(s).\n",
      "You can view my solution on the next page.\n"
     ]
    }
   ],
   "source": [
    "# write your function here\n",
    "\n",
    "def readable_timedelta(days):\n",
    "    weeks = days // 7\n",
    "    remainder = days % 7\n",
    "    return \"{} week(s) and {} day(s).\".format(weeks, remainder)\n",
    "print(readable_timedelta(10))\n",
    "\n",
    "### Notebook grading\n",
    "import random\n",
    "def readable_timedelta_soltn(days):\n",
    "    \"\"\"Print the number of weeks and days in a number of days.\"\"\"\n",
    "    weeks = days // 7\n",
    "    remainder = days % 7\n",
    "    return \"{} week(s) and {} day(s).\".format(weeks,remainder)\n",
    "\n",
    "explanation_str = '''Your function produced the wrong result when called like this: readable_timedelta({}). The expected output is: {}'''\n",
    "\n",
    "test_cases = [1, 6, 7, 9, random.randint(100, 10000)]\n",
    "test_failed = False\n",
    "\n",
    "if 'readable_timedelta' not in locals():\n",
    "    test_failed = True\n",
    "    print(\"Your code doesn't define `readable_timedelta`. Check your spelling.\")\n",
    "elif not isinstance(readable_timedelta, types.FunctionType):\n",
    "    test_failed = True\n",
    "    print(\"`readable_timedelta` should be a function.\")\n",
    "else:\n",
    "    for case in test_cases:\n",
    "        if readable_timedelta(case) != readable_timedelta_soltn(case):\n",
    "            test_failed = True\n",
    "            print(explanation_str.format(case, readable_timedelta_soltn(case)))\n",
    "            break\n",
    "\n",
    "    if not test_failed:\n",
    "        print(\"You can view my solution on the next page.\")"
   ]
  },
  {
   "cell_type": "code",
   "execution_count": 5,
   "metadata": {},
   "outputs": [
    {
     "ename": "UnboundLocalError",
     "evalue": "cannot access local variable 'egg_count' where it is not associated with a value",
     "output_type": "error",
     "traceback": [
      "\u001b[1;31m---------------------------------------------------------------------------\u001b[0m",
      "\u001b[1;31mUnboundLocalError\u001b[0m                         Traceback (most recent call last)",
      "Cell \u001b[1;32mIn[5], line 6\u001b[0m\n\u001b[0;32m      3\u001b[0m \u001b[38;5;28;01mdef\u001b[39;00m\u001b[38;5;250m \u001b[39m\u001b[38;5;21mbuy_eggs\u001b[39m():\n\u001b[0;32m      4\u001b[0m     egg_count \u001b[38;5;241m+\u001b[39m\u001b[38;5;241m=\u001b[39m \u001b[38;5;241m12\u001b[39m \u001b[38;5;66;03m# purchase a dozen eggs\u001b[39;00m\n\u001b[1;32m----> 6\u001b[0m \u001b[43mbuy_eggs\u001b[49m\u001b[43m(\u001b[49m\u001b[43m)\u001b[49m\n",
      "Cell \u001b[1;32mIn[5], line 4\u001b[0m, in \u001b[0;36mbuy_eggs\u001b[1;34m()\u001b[0m\n\u001b[0;32m      3\u001b[0m \u001b[38;5;28;01mdef\u001b[39;00m\u001b[38;5;250m \u001b[39m\u001b[38;5;21mbuy_eggs\u001b[39m():\n\u001b[1;32m----> 4\u001b[0m     \u001b[43megg_count\u001b[49m \u001b[38;5;241m+\u001b[39m\u001b[38;5;241m=\u001b[39m \u001b[38;5;241m12\u001b[39m\n",
      "\u001b[1;31mUnboundLocalError\u001b[0m: cannot access local variable 'egg_count' where it is not associated with a value"
     ]
    }
   ],
   "source": [
    "egg_count = 0\n",
    "\n",
    "def buy_eggs():\n",
    "    egg_count += 12 # purchase a dozen eggs\n",
    "\n",
    "buy_eggs()"
   ]
  },
  {
   "cell_type": "code",
   "execution_count": 6,
   "metadata": {},
   "outputs": [
    {
     "name": "stdout",
     "output_type": "stream",
     "text": [
      "Variable scope is an important concept.\n"
     ]
    }
   ],
   "source": [
    "str1 = 'Functions are important programming concepts.'\n",
    "\n",
    "def print_fn():\n",
    "    str1 = 'Variable scope is an important concept.'\n",
    "    print(str1)\n",
    "\n",
    "print_fn()"
   ]
  },
  {
   "cell_type": "code",
   "execution_count": 7,
   "metadata": {},
   "outputs": [
    {
     "name": "stdout",
     "output_type": "stream",
     "text": [
      "Functions are important programming concepts.\n"
     ]
    }
   ],
   "source": [
    "str1 = 'Functions are important programming concepts.'\n",
    "\n",
    "def print_fn():\n",
    "    #str1 = 'Variable scope is an important concept.'\n",
    "    print(str1)\n",
    "\n",
    "print_fn()"
   ]
  },
  {
   "cell_type": "code",
   "execution_count": 8,
   "metadata": {},
   "outputs": [
    {
     "ename": "TypeError",
     "evalue": "print_fn() takes 0 positional arguments but 1 was given",
     "output_type": "error",
     "traceback": [
      "\u001b[1;31m---------------------------------------------------------------------------\u001b[0m",
      "\u001b[1;31mTypeError\u001b[0m                                 Traceback (most recent call last)",
      "Cell \u001b[1;32mIn[8], line 5\u001b[0m\n\u001b[0;32m      2\u001b[0m     str1 \u001b[38;5;241m=\u001b[39m \u001b[38;5;124m'\u001b[39m\u001b[38;5;124mVariable scope is an important concept.\u001b[39m\u001b[38;5;124m'\u001b[39m\n\u001b[0;32m      3\u001b[0m     \u001b[38;5;28mprint\u001b[39m(str1)\n\u001b[1;32m----> 5\u001b[0m \u001b[43mprint_fn\u001b[49m\u001b[43m(\u001b[49m\u001b[43mstr1\u001b[49m\u001b[43m)\u001b[49m\n",
      "\u001b[1;31mTypeError\u001b[0m: print_fn() takes 0 positional arguments but 1 was given"
     ]
    }
   ],
   "source": [
    "def print_fn():\n",
    "    str1 = 'Variable scope is an important concept.'\n",
    "    print(str1)\n",
    "\n",
    "print_fn(str1)"
   ]
  },
  {
   "cell_type": "code",
   "execution_count": 9,
   "metadata": {},
   "outputs": [
    {
     "name": "stdout",
     "output_type": "stream",
     "text": [
      "You can view my solution on the next page.\n"
     ]
    }
   ],
   "source": [
    "def readable_timedelta(days):\n",
    "    # insert your docstring here\n",
    "    \"\"\"This is a docstring that explains the function's purpose.\"\"\"\n",
    "    \n",
    "    weeks = days // 7\n",
    "    remainder = days % 7\n",
    "    return \"{} week(s) and {} day(s)\".format(weeks, remainder)\n",
    "\n",
    "### Notebook grading\n",
    "import inspect\n",
    "if 'readable_timedelta' not in locals():\n",
    "    print(\"Your code doesn't define the `readable_timedelta` function.\")\n",
    "elif inspect.getdoc(readable_timedelta) is None:\n",
    "    print(\"Your function doesn't have a docstring! Add one that explains the function's purpose.\")\n",
    "else:\n",
    "    print(\"You can view my solution on the next page.\")"
   ]
  },
  {
   "cell_type": "code",
   "execution_count": null,
   "metadata": {},
   "outputs": [],
   "source": []
  }
 ],
 "metadata": {
  "kernelspec": {
   "display_name": "env",
   "language": "python",
   "name": "python3"
  },
  "language_info": {
   "codemirror_mode": {
    "name": "ipython",
    "version": 3
   },
   "file_extension": ".py",
   "mimetype": "text/x-python",
   "name": "python",
   "nbconvert_exporter": "python",
   "pygments_lexer": "ipython3",
   "version": "3.12.8"
  }
 },
 "nbformat": 4,
 "nbformat_minor": 2
}
