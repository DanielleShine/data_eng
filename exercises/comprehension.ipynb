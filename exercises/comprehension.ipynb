{
 "cells": [
  {
   "cell_type": "code",
   "execution_count": 1,
   "metadata": {},
   "outputs": [
    {
     "name": "stdout",
     "output_type": "stream",
     "text": [
      "Good job!\n"
     ]
    }
   ],
   "source": [
    "names = [\"Rick Sanchez\", \"Morty Smith\", \"Summer Smith\", \"Jerry Smith\", \"Beth Smith\"]\n",
    "first_names = [names[i].split()[0].lower() for i in range(len(names))]\n",
    "\n",
    "\n",
    "\n",
    "### Notebook grading\n",
    "correct_answer = ['rick', 'morty', 'summer', 'jerry', 'beth']\n",
    "if first_names == correct_answer:\n",
    "    print(\"Good job!\")\n",
    "else:\n",
    "    print(\"Not quite! Did you make the names lowercase?\")"
   ]
  },
  {
   "cell_type": "code",
   "execution_count": 7,
   "metadata": {},
   "outputs": [
    {
     "name": "stdout",
     "output_type": "stream",
     "text": [
      "Good job!\n"
     ]
    }
   ],
   "source": [
    "multiples_3 = [3 * x for x in range(1, 21)] # write your list comprehension here\n",
    "\n",
    "### Notebook grading\n",
    "correct_answer = [3, 6, 9, 12, 15, 18, 21, 24, 27, 30, 33, 36, 39, 42, 45, 48, 51, 54, 57, 60]\n",
    "if multiples_3 == correct_answer:\n",
    "    print(\"Good job!\")\n",
    "else:\n",
    "    print(\"Not quite! Are you sure there are 20 elements in your list?\")"
   ]
  },
  {
   "cell_type": "code",
   "execution_count": 8,
   "metadata": {},
   "outputs": [
    {
     "name": "stdout",
     "output_type": "stream",
     "text": [
      "Good job!\n"
     ]
    }
   ],
   "source": [
    "scores = {\n",
    "             \"Rick Sanchez\": 70,\n",
    "             \"Morty Smith\": 35,\n",
    "             \"Summer Smith\": 82,\n",
    "             \"Jerry Smith\": 23,\n",
    "             \"Beth Smith\": 98\n",
    "          }\n",
    "\n",
    "passed = [name for name, score in scores.items() if score >= 65] # write your list comprehension here\n",
    "### Notebook grading\n",
    "correct_answer = ['Rick Sanchez', 'Summer Smith', 'Beth Smith']\n",
    "\n",
    "if passed == correct_answer:\n",
    "    print(\"Good job!\")\n",
    "else:\n",
    "    print(\"Not quite! Did you use the corresponding score to filter each name?\")"
   ]
  },
  {
   "cell_type": "code",
   "execution_count": null,
   "metadata": {},
   "outputs": [],
   "source": []
  }
 ],
 "metadata": {
  "kernelspec": {
   "display_name": "env",
   "language": "python",
   "name": "python3"
  },
  "language_info": {
   "codemirror_mode": {
    "name": "ipython",
    "version": 3
   },
   "file_extension": ".py",
   "mimetype": "text/x-python",
   "name": "python",
   "nbconvert_exporter": "python",
   "pygments_lexer": "ipython3",
   "version": "3.12.8"
  }
 },
 "nbformat": 4,
 "nbformat_minor": 2
}
