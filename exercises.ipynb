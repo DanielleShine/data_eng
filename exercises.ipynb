{
 "cells": [
  {
   "cell_type": "code",
   "execution_count": 2,
   "metadata": {},
   "outputs": [],
   "source": [
    "animals = {'dogs': [20, 10, 15, 8, 32, 15], 'cats': [3,4,2,8,2,4], 'rabbits': [2, 3, 3], 'fish': [0.3, 0.5, 0.8, 0.3, 1]}"
   ]
  },
  {
   "cell_type": "code",
   "execution_count": 2,
   "metadata": {},
   "outputs": [
    {
     "ename": "KeyError",
     "evalue": "3",
     "output_type": "error",
     "traceback": [
      "\u001b[1;31m---------------------------------------------------------------------------\u001b[0m",
      "\u001b[1;31mKeyError\u001b[0m                                  Traceback (most recent call last)",
      "Cell \u001b[1;32mIn[2], line 1\u001b[0m\n\u001b[1;32m----> 1\u001b[0m \u001b[43manimals\u001b[49m\u001b[43m[\u001b[49m\u001b[38;5;241;43m3\u001b[39;49m\u001b[43m]\u001b[49m\n",
      "\u001b[1;31mKeyError\u001b[0m: 3"
     ]
    }
   ],
   "source": [
    "animals[3]"
   ]
  },
  {
   "cell_type": "code",
   "execution_count": 5,
   "metadata": {},
   "outputs": [
    {
     "data": {
      "text/plain": [
       "8"
      ]
     },
     "execution_count": 5,
     "metadata": {},
     "output_type": "execute_result"
    }
   ],
   "source": [
    "animals['dogs'][3]\n"
   ]
  },
  {
   "cell_type": "code",
   "execution_count": 1,
   "metadata": {},
   "outputs": [
    {
     "name": "stdout",
     "output_type": "stream",
     "text": [
      "Your code passes all of our tests, nice work!\n"
     ]
    }
   ],
   "source": [
    "elements = {'hydrogen': {'number': 1, 'weight': 1.00794, 'symbol': 'H', 'is_noble_gas': False},\n",
    "            'helium': {'number': 2, 'weight': 4.002602, 'symbol': 'He', 'is_noble_gas': True}}\n",
    "# TODO: Add an 'is_noble_gas' entry to the hydrogen and helium dictionaries\n",
    "# hint: helium is a noble gas, hydrogen isn't\n",
    "\n",
    "### Notebook grading\n",
    "explanation_str = '''Your code produced the wrong result. Looks like you did not add the 'is_noble_gas' property properly for {}.'''\n",
    "if not('is_noble_gas' in elements['hydrogen'].keys()) or elements['hydrogen']['is_noble_gas'] != False:\n",
    "    print(explanation_str.format(\"'hydrogen'\"))\n",
    "elif not('is_noble_gas' in elements['helium'].keys()) or elements['helium']['is_noble_gas'] != True:\n",
    "    print(explanation_str.format(\"'helium'\"))\n",
    "else:\n",
    "    print(\"\"\"Your code passes all of our tests, nice work!\"\"\")"
   ]
  },
  {
   "cell_type": "code",
   "execution_count": 2,
   "metadata": {},
   "outputs": [
    {
     "name": "stdout",
     "output_type": "stream",
     "text": [
      "if you can keep your head when all about you are losing theirs and blaming it on you   if you can trust yourself when all men doubt you     but make allowance for their doubting too   if you can wait and not be tired by waiting      or being lied about  don’t deal in lies   or being hated  don’t give way to hating      and yet don’t look too good  nor talk too wise \n",
      "\n",
      "['if', 'you', 'can', 'keep', 'your', 'head', 'when', 'all', 'about', 'you', 'are', 'losing', 'theirs', 'and', 'blaming', 'it', 'on', 'you', 'if', 'you', 'can', 'trust', 'yourself', 'when', 'all', 'men', 'doubt', 'you', 'but', 'make', 'allowance', 'for', 'their', 'doubting', 'too', 'if', 'you', 'can', 'wait', 'and', 'not', 'be', 'tired', 'by', 'waiting', 'or', 'being', 'lied', 'about', 'don’t', 'deal', 'in', 'lies', 'or', 'being', 'hated', 'don’t', 'give', 'way', 'to', 'hating', 'and', 'yet', 'don’t', 'look', 'too', 'good', 'nor', 'talk', 'too', 'wise'] \n",
      "\n",
      "{'in', 'are', 'look', 'for', 'it', 'being', 'good', 'their', 'yourself', 'and', 'doubting', 'lied', 'give', 'talk', 'yet', 'can', 'all', 'way', 'but', 'hating', 'trust', 'doubt', 'keep', 'your', 'waiting', 'or', 'be', 'don’t', 'hated', 'theirs', 'deal', 'nor', 'men', 'you', 'by', 'wise', 'tired', 'when', 'blaming', 'allowance', 'too', 'on', 'if', 'about', 'not', 'lies', 'losing', 'head', 'make', 'wait', 'to'} \n",
      "\n",
      "51 \n",
      "\n",
      "Nice job! You can see my solution in the next page.\n"
     ]
    }
   ],
   "source": [
    "verse = \"if you can keep your head when all about you are losing theirs and blaming it on you   if you can trust yourself when all men doubt you     but make allowance for their doubting too   if you can wait and not be tired by waiting      or being lied about  don’t deal in lies   or being hated  don’t give way to hating      and yet don’t look too good  nor talk too wise\"\n",
    "print(verse, '\\n')\n",
    "\n",
    "# TODO: replace None with appropriate code\n",
    "# split verse into list of words\n",
    "verse_list = verse.split()\n",
    "print(verse_list, '\\n')\n",
    "\n",
    "# TODO: replace None with appropriate code\n",
    "# convert list to a data structure that stores unique elements\n",
    "verse_set = set(verse_list)\n",
    "print(verse_set, '\\n')\n",
    "\n",
    "# TODO: replace None with appropriate code\n",
    "# find the number of unique words\n",
    "num_unique = len(verse_set)\n",
    "print(num_unique, '\\n')\n",
    "\n",
    "### Notebook grading\n",
    "correct_answer = 51\n",
    "if type(verse_list) != list:\n",
    "    print(\"`verse_list` should be a list of all words in `verse`.\")\n",
    "elif type(verse_set) != set:\n",
    "    print(\"`verse_set` should be a set of all unique words in `verse_list`\")\n",
    "elif type(num_unique) != int:\n",
    "    print(\"Make sure you define `num_unique` with the number of unique words!\")\n",
    "elif num_unique != correct_answer:\n",
    "    print(\"Not quite! Are you finding the length of the set correctly?\")\n",
    "else:\n",
    "    print(\"Nice job! You can see my solution in the next page.\")"
   ]
  },
  {
   "cell_type": "code",
   "execution_count": 4,
   "metadata": {},
   "outputs": [
    {
     "name": "stdout",
     "output_type": "stream",
     "text": [
      "{'if': 3, 'you': 6, 'can': 3, 'keep': 1, 'your': 1, 'head': 1, 'when': 2, 'all': 2, 'about': 2, 'are': 1, 'losing': 1, 'theirs': 1, 'and': 3, 'blaming': 1, 'it': 1, 'on': 1, 'trust': 1, 'yourself': 1, 'men': 1, 'doubt': 1, 'but': 1, 'make': 1, 'allowance': 1, 'for': 1, 'their': 1, 'doubting': 1, 'too': 3, 'wait': 1, 'not': 1, 'be': 1, 'tired': 1, 'by': 1, 'waiting': 1, 'or': 2, 'being': 2, 'lied': 1, \"don't\": 3, 'deal': 1, 'in': 1, 'lies': 1, 'hated': 1, 'give': 1, 'way': 1, 'to': 1, 'hating': 1, 'yet': 1, 'look': 1, 'good': 1, 'nor': 1, 'talk': 1, 'wise': 1} \n",
      "\n"
     ]
    }
   ],
   "source": [
    "verse_dict =  {'if': 3, 'you': 6, 'can': 3, 'keep': 1, 'your': 1, 'head': 1, 'when': 2, 'all': 2, 'about': 2, 'are': 1, 'losing': 1, 'theirs': 1, 'and': 3, 'blaming': 1, 'it': 1, 'on': 1, 'trust': 1, 'yourself': 1, 'men': 1, 'doubt': 1, 'but': 1, 'make': 1, 'allowance': 1, 'for': 1, 'their': 1, 'doubting': 1, 'too': 3, 'wait': 1, 'not': 1, 'be': 1, 'tired': 1, 'by': 1, 'waiting': 1, 'or': 2, 'being': 2, 'lied': 1, 'don\\'t': 3, 'deal': 1, 'in': 1, 'lies': 1, 'hated': 1, 'give': 1, 'way': 1, 'to': 1, 'hating': 1, 'yet': 1, 'look': 1, 'good': 1, 'nor': 1, 'talk': 1, 'wise': 1}\n",
    "print(verse_dict, '\\n')"
   ]
  },
  {
   "cell_type": "code",
   "execution_count": 20,
   "metadata": {},
   "outputs": [
    {
     "name": "stdout",
     "output_type": "stream",
     "text": [
      "{1, 2, 3, 6}\n"
     ]
    }
   ],
   "source": [
    "# find number of unique keys in the dictionary\n",
    "num_keys = set(verse_dict.values())\n",
    "print(num_keys)"
   ]
  },
  {
   "cell_type": "code",
   "execution_count": 21,
   "metadata": {},
   "outputs": [
    {
     "data": {
      "text/plain": [
       "51"
      ]
     },
     "execution_count": 21,
     "metadata": {},
     "output_type": "execute_result"
    }
   ],
   "source": [
    "len(verse_dict)"
   ]
  },
  {
   "cell_type": "code",
   "execution_count": null,
   "metadata": {},
   "outputs": [],
   "source": []
  },
  {
   "cell_type": "code",
   "execution_count": 6,
   "metadata": {},
   "outputs": [
    {
     "name": "stdout",
     "output_type": "stream",
     "text": [
      "None\n"
     ]
    }
   ],
   "source": [
    "# find whether 'breathe' is a key in the dictionary\n",
    "contains_breathe = verse_dict.get('breathe')\n",
    "print(contains_breathe)"
   ]
  },
  {
   "cell_type": "code",
   "execution_count": 32,
   "metadata": {},
   "outputs": [
    {
     "name": "stdout",
     "output_type": "stream",
     "text": [
      "['about', 'about', 'all', 'all', 'allowance', 'and', 'and', 'and', 'are', 'be', 'being', 'being', 'blaming', 'but', 'by', 'can', 'can', 'can', 'deal', 'don’t', 'don’t', 'don’t', 'doubt', 'doubting', 'for', 'give', 'good', 'hated', 'hating', 'head', 'if', 'if', 'if', 'in', 'it', 'keep', 'lied', 'lies', 'look', 'losing', 'make', 'men', 'nor', 'not', 'on', 'or', 'or', 'talk', 'their', 'theirs', 'tired', 'to', 'too', 'too', 'too', 'trust', 'wait', 'waiting', 'way', 'when', 'when', 'wise', 'yet', 'you', 'you', 'you', 'you', 'you', 'you', 'your', 'yourself']\n"
     ]
    }
   ],
   "source": [
    "# create and sort a list of the dictionary's keys\n",
    "sorted_keys = sorted(verse.split())\n",
    "print(sorted_keys)"
   ]
  },
  {
   "cell_type": "code",
   "execution_count": 30,
   "metadata": {},
   "outputs": [
    {
     "name": "stdout",
     "output_type": "stream",
     "text": [
      "{'in', 'are', 'look', 'for', 'it', 'being', 'good', 'their', 'yourself', 'and', 'doubting', 'lied', 'give', 'talk', 'yet', 'can', 'all', 'way', 'but', 'hating', 'trust', 'doubt', 'keep', 'your', 'waiting', 'or', 'be', 'hated', 'theirs', 'deal', 'nor', 'men', 'you', 'by', 'wise', 'tired', 'when', 'blaming', 'allowance', 'too', \"don't\", 'on', 'if', 'about', 'not', 'lies', 'losing', 'head', 'make', 'wait', 'to'}\n"
     ]
    }
   ],
   "source": [
    "# get the first element in the sorted list of keys\n",
    "print(set(verse_dict))"
   ]
  },
  {
   "cell_type": "code",
   "execution_count": 27,
   "metadata": {},
   "outputs": [
    {
     "name": "stdout",
     "output_type": "stream",
     "text": [
      "you\n"
     ]
    }
   ],
   "source": [
    "# find the element with the highest value in the list of keys\n",
    "print(max(verse_dict, key=verse_dict.get)) "
   ]
  },
  {
   "cell_type": "code",
   "execution_count": null,
   "metadata": {},
   "outputs": [],
   "source": []
  }
 ],
 "metadata": {
  "kernelspec": {
   "display_name": "env",
   "language": "python",
   "name": "python3"
  },
  "language_info": {
   "codemirror_mode": {
    "name": "ipython",
    "version": 3
   },
   "file_extension": ".py",
   "mimetype": "text/x-python",
   "name": "python",
   "nbconvert_exporter": "python",
   "pygments_lexer": "ipython3",
   "version": "3.12.8"
  }
 },
 "nbformat": 4,
 "nbformat_minor": 2
}
