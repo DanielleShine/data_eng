{
 "cells": [
  {
   "cell_type": "code",
   "execution_count": 1,
   "metadata": {},
   "outputs": [
    {
     "name": "stdout",
     "output_type": "stream",
     "text": [
      "Nice work!\n"
     ]
    }
   ],
   "source": [
    "names = [\"Joey Tribbiani\", \"Monica Geller\", \"Chandler Bing\", \"Phoebe Buffay\"]\n",
    "usernames = []\n",
    "\n",
    "for i in names:\n",
    "    usernames.append(i.lower().replace(\" \", \"_\"))\n",
    "\n",
    "### Notebook grading\n",
    "if usernames == [\"joey_tribbiani\", \"monica_geller\", \"chandler_bing\", \"phoebe_buffay\"]:\n",
    "    print(\"Nice work!\")\n",
    "else:\n",
    "    print(\"Not quite! Did you append each new username to the list `usernames`?\")"
   ]
  },
  {
   "cell_type": "code",
   "execution_count": 2,
   "metadata": {},
   "outputs": [
    {
     "name": "stdout",
     "output_type": "stream",
     "text": [
      "Nice work!\n"
     ]
    }
   ],
   "source": [
    "usernames = [\"Joey Tribbiani\", \"Monica Geller\", \"Chandler Bing\", \"Phoebe Buffay\"]\n",
    "\n",
    "# write your for loop here\n",
    "for i in range(len(usernames)):\n",
    "    usernames[i] = usernames[i].lower().replace(\" \", \"_\")\n",
    "\n",
    "\n",
    "\n",
    "### Notebook grading\n",
    "if usernames == [\"joey_tribbiani\", \"monica_geller\", \"chandler_bing\", \"phoebe_buffay\"]:\n",
    "    print(\"Nice work!\")\n",
    "else:\n",
    "    print(\"Not quite! Did you modify each element in the list `usernames`?\")"
   ]
  },
  {
   "cell_type": "code",
   "execution_count": 3,
   "metadata": {},
   "outputs": [
    {
     "name": "stdout",
     "output_type": "stream",
     "text": [
      "Nice work!\n"
     ]
    }
   ],
   "source": [
    "tokens = ['<greeting>', 'Hello World!', '</greeting>']\n",
    "count = 0\n",
    "\n",
    "for i in tokens:\n",
    "    for j in i:\n",
    "        if j == \"<\":\n",
    "            count += 1\n",
    "\n",
    "### Notebook grading\n",
    "if count == 2:\n",
    "    print(\"Nice work!\")\n",
    "else:\n",
    "    print(\"Not quite! Did you track of the number of tag with `count`?\")"
   ]
  },
  {
   "cell_type": "code",
   "execution_count": 6,
   "metadata": {},
   "outputs": [],
   "source": [
    "items = ['first string', 'second string']\n",
    "html_str = \"<ul>\\n\"  # \"\\ n\" is the character that marks the end of the line, it does\n",
    "                     # the characters that are after it in html_str are on the next line\n",
    "\n",
    "# write your code here. \n",
    "# This quiz is not graded. You can check your print result by press the Run button. \n",
    "# See the next page for the solution.\n",
    "\n",
    "for i in items:\n",
    "    html_str += \"<li>\" + i + \"</li>\\n\"\n",
    "html_str += \"</ul>\""
   ]
  },
  {
   "cell_type": "code",
   "execution_count": 7,
   "metadata": {},
   "outputs": [
    {
     "name": "stdout",
     "output_type": "stream",
     "text": [
      "<ul>\n",
      "<li>first string</li>\n",
      "<li>second string</li>\n",
      "</ul>\n"
     ]
    }
   ],
   "source": [
    "print(html_str)"
   ]
  },
  {
   "cell_type": "code",
   "execution_count": null,
   "metadata": {},
   "outputs": [],
   "source": [
    "colors = ['Red', 'Blue', 'Green', 'Purple']\n",
    "lower_colors = [ ]\n",
    "\n",
    "for color in colors:\n",
    "    #finish this part"
   ]
  },
  {
   "cell_type": "code",
   "execution_count": 8,
   "metadata": {},
   "outputs": [
    {
     "name": "stdout",
     "output_type": "stream",
     "text": [
      "Well done!\n"
     ]
    }
   ],
   "source": [
    "# You would like to count the number of fruits in your basket. \n",
    "# In order to do this, you have the following dictionary and list of\n",
    "# fruits.  Use the dictionary and list to count the total number\n",
    "# of fruits, but you do not want to count the other items in your basket.\n",
    "\n",
    "result = 0\n",
    "basket_items = {'apples': 4, 'oranges': 19, 'kites': 3, 'sandwiches': 8}\n",
    "fruits = ['apples', 'oranges', 'pears', 'peaches', 'grapes', 'bananas']\n",
    "\n",
    "#Iterate through the dictionary\n",
    "\n",
    "#if the key is in the list of fruits, add the value (number of fruits) to result\n",
    "\n",
    "for fruit, count in basket_items.items():\n",
    "    if fruit in fruits:\n",
    "        result += count\n",
    "\n",
    "### Notebook grading\n",
    "def get_solution(basket_items, fruits):\n",
    "    result = 0\n",
    "    for fruit, count in basket_items.items():\n",
    "        if fruit in fruits:\n",
    "            result += count\n",
    "    return result\n",
    "\n",
    "correct_answer = get_solution(basket_items, fruits)\n",
    "if result == correct_answer:\n",
    "    print(\"Well done!\")\n",
    "else:\n",
    "    print(\"Try again. That doesn't look like what expected.\")"
   ]
  },
  {
   "cell_type": "code",
   "execution_count": 9,
   "metadata": {},
   "outputs": [
    {
     "name": "stdout",
     "output_type": "stream",
     "text": [
      "Try again. That doesn't look like what expected.\n"
     ]
    }
   ],
   "source": [
    "# You would like to count the number of fruits in your basket. \n",
    "# In order to do this, you have the following dictionary and list of\n",
    "# fruits.  Use the dictionary and list to count the total number\n",
    "# of fruits and not_fruits.\n",
    "\n",
    "fruit_count, not_fruit_count = 0, 0\n",
    "basket_items = {'apples': 4, 'oranges': 19, 'kites': 3, 'sandwiches': 8}\n",
    "fruits = ['apples', 'oranges', 'pears', 'peaches', 'grapes', 'bananas']\n",
    "\n",
    "#Iterate through the dictionary\n",
    "\n",
    "#if the key is in the list of fruits, add to fruit_count.\n",
    "\n",
    "#if the key is not in the list, then add to the not_fruit_count\n",
    "\n",
    "def fruit(basket_items, fruits):\n",
    "    for i, count in basket_items.item():\n",
    "        if i in fruits:\n",
    "            fruit_count+=count\n",
    "        else:\n",
    "            not_fruit_count+=count\n",
    "    return fruit_count, not_fruit_count\n",
    "            \n",
    "\n",
    "### Notebook grading\n",
    "def get_solution(basket_items, fruits):\n",
    "    fruit_count, not_fruit_count = 0, 0\n",
    "    for fruit, count in basket_items.items():\n",
    "        if fruit in fruits:\n",
    "            fruit_count += count\n",
    "        else:\n",
    "            not_fruit_count += count\n",
    "    return fruit_count, not_fruit_count\n",
    "\n",
    "correct_fruit, correct_not_fruit = get_solution(basket_items, fruits)\n",
    "if fruit_count == correct_fruit and not_fruit_count == correct_not_fruit:\n",
    "    print(\"Well done!\")\n",
    "else:\n",
    "    print(\"Try again. That doesn't look like what expected.\")"
   ]
  },
  {
   "cell_type": "code",
   "execution_count": 11,
   "metadata": {},
   "outputs": [
    {
     "name": "stdout",
     "output_type": "stream",
     "text": [
      "Well done!\n"
     ]
    }
   ],
   "source": [
    "# You would like to count the number of fruits in your basket. \n",
    "# In order to do this, you have the following dictionary and list of\n",
    "# fruits.  Use the dictionary and list to count the total number\n",
    "# of fruits and not_fruits.\n",
    "\n",
    "fruit_count, not_fruit_count = 0, 0\n",
    "basket_items = {'apples': 4, 'oranges': 19, 'kites': 3, 'sandwiches': 8}\n",
    "fruits = ['apples', 'oranges', 'pears', 'peaches', 'grapes', 'bananas']\n",
    "\n",
    "#Iterate through the dictionary\n",
    "\n",
    "#if the key is in the list of fruits, add to fruit_count.\n",
    "\n",
    "#if the key is not in the list, then add to the not_fruit_count\n",
    "for fruit, count in basket_items.items():\n",
    "    if fruit in fruits:\n",
    "        fruit_count += count\n",
    "    else:\n",
    "        not_fruit_count += count\n",
    "\n",
    "### Notebook grading\n",
    "def get_solution(basket_items, fruits):\n",
    "    fruit_count, not_fruit_count = 0, 0\n",
    "    for fruit, count in basket_items.items():\n",
    "        if fruit in fruits:\n",
    "            fruit_count += count\n",
    "        else:\n",
    "            not_fruit_count += count\n",
    "    return fruit_count, not_fruit_count\n",
    "\n",
    "correct_fruit, correct_not_fruit = get_solution(basket_items, fruits)\n",
    "if fruit_count == correct_fruit and not_fruit_count == correct_not_fruit:\n",
    "    print(\"Well done!\")\n",
    "else:\n",
    "    print(\"Try again. That doesn't look like what expected.\")"
   ]
  },
  {
   "cell_type": "code",
   "execution_count": 12,
   "metadata": {},
   "outputs": [
    {
     "name": "stdout",
     "output_type": "stream",
     "text": [
      "Nice work!\n"
     ]
    }
   ],
   "source": [
    "# number to find the factorial of\n",
    "number = 6   \n",
    "# start with our product equal to one\n",
    "product = 1\n",
    "# track the current number being multiplied\n",
    "current = 1\n",
    "# write your while loop here\n",
    "    # multiply the product so far by the current number\n",
    "while current <= number:\n",
    "    product *= current\n",
    "    current += 1\n",
    "    \n",
    "    \n",
    "    # increment current with each iteration until it reaches number\n",
    "\n",
    "### Notebook grading\n",
    "if product == 720:\n",
    "    print(\"Nice work!\")\n",
    "else:\n",
    "    print(\"Not quite. Did you set the `number` to 6\")"
   ]
  },
  {
   "cell_type": "code",
   "execution_count": 13,
   "metadata": {},
   "outputs": [
    {
     "name": "stdout",
     "output_type": "stream",
     "text": [
      "Nice work!\n"
     ]
    }
   ],
   "source": [
    "# number to find the factorial of\n",
    "number = 6   \n",
    "# start with our product equal to one\n",
    "product = 1\n",
    "# write your for loop here\n",
    "for i in range(1, number+1):\n",
    "    product *= i\n",
    "\n",
    "### Notebook grading\n",
    "if product == 720:\n",
    "    print(\"Nice work!\")\n",
    "else:\n",
    "    print(\"Not quite. Did you set the `number` to 6\")"
   ]
  },
  {
   "cell_type": "code",
   "execution_count": 16,
   "metadata": {},
   "outputs": [
    {
     "name": "stdout",
     "output_type": "stream",
     "text": [
      "Good job!\n"
     ]
    }
   ],
   "source": [
    "start_num = 5 #provide some start number, replace 5 with a number you choose\n",
    "end_num = 100#provide some end number that you stop when you hit, replace 100 with a number you choose\n",
    "count_by = 2 #provide some number to count by, replace 2 with a number you choose \n",
    "\n",
    "# write a while loop that uses break_num as the ongoing number to \n",
    "# check against end_num\n",
    "\n",
    "break_num = start_num\n",
    "while break_num < end_num:\n",
    "    break_num += count_by\n",
    "\n",
    "\n",
    "### Notebook grading\n",
    "\n",
    "def get_solution(start_num, end_num, count_by):\n",
    "    break_num = start_num\n",
    "    while break_num < end_num:\n",
    "        break_num += count_by\n",
    "    \n",
    "    return break_num\n",
    "\n",
    "correct = get_solution(start_num, end_num, count_by)\n",
    "\n",
    "if break_num == correct:\n",
    "    print(\"Good job!\")\n",
    "else:\n",
    "    print(\"Oops! It doesn't look like the expected answer.\")"
   ]
  },
  {
   "cell_type": "code",
   "execution_count": 20,
   "metadata": {},
   "outputs": [
    {
     "name": "stdout",
     "output_type": "stream",
     "text": [
      "Good job!\n"
     ]
    }
   ],
   "source": [
    "start_num = 5 #provide some start number, replace 5 with a number you choose\n",
    "end_num = 100#provide some end number that you stop when you hit, replace 100 with a number you choose\n",
    "count_by = 2 #provide some number to count by, replace 2 with a number you choose \n",
    "\n",
    "# write a while loop that uses break_num as the ongoing number to \n",
    "# check against end_num\n",
    "\n",
    "\n",
    "break_num = start_num #replace None with appropriate code\n",
    "while break_num < end_num:\n",
    "    break_num += count_by\n",
    "### Notebook grading\n",
    "\n",
    "def get_solution(start_num, end_num, count_by):\n",
    "    break_num = start_num\n",
    "    while break_num < end_num:\n",
    "        break_num += count_by\n",
    "    \n",
    "    return break_num\n",
    "\n",
    "correct = get_solution(start_num, end_num, count_by)\n",
    "\n",
    "if break_num == correct:\n",
    "    print(\"Good job!\")\n",
    "else:\n",
    "    print(\"Oops! It doesn't look like the expected answer.\")"
   ]
  },
  {
   "cell_type": "code",
   "execution_count": 21,
   "metadata": {},
   "outputs": [
    {
     "name": "stdout",
     "output_type": "stream",
     "text": [
      "Good job!\n"
     ]
    }
   ],
   "source": [
    "limit = 40 #provide a limit, replace 40 with a number you choose\n",
    "# write your while loop here\n",
    "nearest_square = 1 # replace None with appropriate code\n",
    "\n",
    "num=0\n",
    "while (num+1)**2 < limit:\n",
    "    num += 1\n",
    "    nearest_square = num**2\n",
    "\n",
    "\n",
    "\n",
    "### Notebook grading\n",
    "def get_solution(limit):\n",
    "    num = 0\n",
    "    while (num+1)**2 < limit:\n",
    "        num += 1\n",
    "        nearest_square = num**2\n",
    "    return nearest_square\n",
    "\n",
    "correct_ans = get_solution(limit)\n",
    "\n",
    "if nearest_square == correct_ans:\n",
    "    print(\"Good job!\")\n",
    "else:\n",
    "    print(\"Not quite. Did you assign your result to `nearest_square`?\")"
   ]
  },
  {
   "cell_type": "code",
   "execution_count": 22,
   "metadata": {},
   "outputs": [
    {
     "name": "stdout",
     "output_type": "stream",
     "text": [
      "Well done!\n"
     ]
    }
   ],
   "source": [
    "# HINT: modify the headlines list to verify your loop works with different inputs\n",
    "headlines = [\"Local Bear Eaten by Man\",\n",
    "             \"Legislature Announces New Laws\",\n",
    "             \"Peasant Discovers Violence Inherent in System\",\n",
    "             \"Cat Rescues Fireman Stuck in Tree\",\n",
    "             \"Brave Knight Runs Away\",\n",
    "             \"Papperbok Review: Totally Triffic\"]\n",
    "\n",
    "news_ticker = \"\"\n",
    "# write your loop here\n",
    "for headline in headlines:\n",
    "    news_ticker += headline + \" \"\n",
    "    if len(news_ticker) >= 140:\n",
    "        news_ticker = news_ticker[:140]\n",
    "        break\n",
    "\n",
    "### Notebook grading\n",
    "correct_answer = \"Local Bear Eaten by Man Legislature Announces New Laws Peasant Discovers Violence Inherent in System Cat Rescues Fireman Stuck in Tree Brave\"\n",
    "def get_solution(headlines):\n",
    "    news_ticker = \"\"\n",
    "    for headline in headlines:\n",
    "        news_ticker += headline + \" \"\n",
    "        if len(news_ticker) >= 140:\n",
    "            news_ticker = news_ticker[:140]\n",
    "            break\n",
    "    return news_ticker\n",
    "\n",
    "correct_ans = get_solution(headlines)\n",
    "\n",
    "if news_ticker == correct_ans:\n",
    "    print(\"Well done!\")\n",
    "else:\n",
    "    print(\"Make sure you're inserting spaces between each headline, and that the ticker is exactly 140 characters long.\")\n"
   ]
  },
  {
   "cell_type": "code",
   "execution_count": 26,
   "metadata": {},
   "outputs": [
    {
     "name": "stdout",
     "output_type": "stream",
     "text": [
      "['F: 23, 677, 4', 'J: 53, 233, 16', 'A: 2, 405, -6', 'Q: -12, 433, -42', 'Y: 95, 905, 3', 'B: 103, 376, -6', 'W: 14, 432, 23', 'X: -5, 445, -1']\n"
     ]
    }
   ],
   "source": [
    "x_coord = [23, 53, 2, -12, 95, 103, 14, -5]\n",
    "y_coord = [677, 233, 405, 433, 905, 376, 432, 445]\n",
    "z_coord = [4, 16, -6, -42, 3, -6, 23, -1]\n",
    "labels = [\"F\", \"J\", \"A\", \"Q\", \"Y\", \"B\", \"W\", \"X\"]\n",
    "points = []\n",
    "# write your for loop here\n",
    "for label, x, y, z in zip(labels, x_coord, y_coord, z_coord):\n",
    "    points.append(\"{}: {}, {}, {}\".format(label, x, y, z))\n",
    "\n",
    "print(points)"
   ]
  },
  {
   "cell_type": "code",
   "execution_count": 25,
   "metadata": {},
   "outputs": [
    {
     "name": "stdout",
     "output_type": "stream",
     "text": [
      "{'Barney': 72, 'Robin': 68, 'Ted': 72, 'Lily': 66, 'Marshall': 76}\n"
     ]
    }
   ],
   "source": [
    "cast_names = [\"Barney\", \"Robin\", \"Ted\", \"Lily\", \"Marshall\"]\n",
    "cast_heights = [72, 68, 72, 66, 76]\n",
    "\n",
    "cast = dict(zip(cast_names, cast_heights))\n",
    "print(cast)"
   ]
  },
  {
   "cell_type": "code",
   "execution_count": 30,
   "metadata": {},
   "outputs": [
    {
     "name": "stdout",
     "output_type": "stream",
     "text": [
      "('Barney', 'Robin', 'Ted', 'Lily', 'Marshall') (72, 68, 72, 66, 76)\n"
     ]
    }
   ],
   "source": [
    "cast = ((\"Barney\", 72), (\"Robin\", 68), (\"Ted\", 72), (\"Lily\", 66), (\"Marshall\", 76))\n",
    "# define names and heights here\n",
    "names, heights = zip(*cast)\n",
    "\n",
    "print(names, heights)"
   ]
  },
  {
   "cell_type": "code",
   "execution_count": 32,
   "metadata": {},
   "outputs": [
    {
     "name": "stdout",
     "output_type": "stream",
     "text": [
      "((0, 3, 6, 9), (1, 4, 7, 10), (2, 5, 8, 11))\n"
     ]
    }
   ],
   "source": [
    "data = ((0, 1, 2), (3, 4, 5), (6, 7, 8), (9, 10, 11))\n",
    "data_transpose = tuple(zip(*data))\n",
    "print(data_transpose)"
   ]
  },
  {
   "cell_type": "code",
   "execution_count": 34,
   "metadata": {},
   "outputs": [
    {
     "name": "stdout",
     "output_type": "stream",
     "text": [
      "{'Barney Stinson': 72, 'Robin Scherbatsky': 68, 'Ted Mosby': 72, 'Lily Aldrin': 66, 'Marshall Eriksen': 76}\n"
     ]
    }
   ],
   "source": [
    "cast = [\"Barney Stinson\", \"Robin Scherbatsky\", \"Ted Mosby\", \"Lily Aldrin\", \"Marshall Eriksen\"]\n",
    "heights = [72, 68, 72, 66, 76]\n",
    "# write your for loop here\n",
    "\n",
    "cast = dict(zip(cast, heights))\n",
    "print(cast)"
   ]
  },
  {
   "cell_type": "code",
   "execution_count": null,
   "metadata": {},
   "outputs": [],
   "source": []
  }
 ],
 "metadata": {
  "kernelspec": {
   "display_name": "env",
   "language": "python",
   "name": "python3"
  },
  "language_info": {
   "codemirror_mode": {
    "name": "ipython",
    "version": 3
   },
   "file_extension": ".py",
   "mimetype": "text/x-python",
   "name": "python",
   "nbconvert_exporter": "python",
   "pygments_lexer": "ipython3",
   "version": "3.12.8"
  }
 },
 "nbformat": 4,
 "nbformat_minor": 2
}
